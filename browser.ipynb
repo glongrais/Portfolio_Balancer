{
 "cells": [
  {
   "cell_type": "code",
   "execution_count": 27,
   "metadata": {},
   "outputs": [],
   "source": [
    "from pyspark.sql import SparkSession\n",
    "def create_spark_session():\n",
    "    return SparkSession.builder \\\n",
    "        .appName(\"Hudi Data Lake\") \\\n",
    "        .config(\"spark.serializer\", \"org.apache.spark.serializer.KryoSerializer\") \\\n",
    "        .config(\"spark.sql.extensions\", \"org.apache.spark.sql.hudi.HoodieSparkSessionExtension\") \\\n",
    "        .config(\"spark.jars.packages\", \"org.apache.hudi:hudi-spark3.4-bundle_2.12:0.14.1\") \\\n",
    "        .getOrCreate()\n",
    "\n",
    "portfolio_path = \"/Users/guillaumelongrais/Documents/Code/Python/Portfolio_Balancing/portfolio_data\"\n",
    "data_path = \"/Users/guillaumelongrais/Documents/Code/Python/Portfolio_Balancing/stock_data\"\n",
    "\n",
    "spark_session = create_spark_session()"
   ]
  },
  {
   "cell_type": "code",
   "execution_count": 25,
   "metadata": {},
   "outputs": [
    {
     "name": "stdout",
     "output_type": "stream",
     "text": [
      "<class 'pyspark.sql.dataframe.DataFrame'>\n"
     ]
    },
    {
     "data": {
      "text/plain": [
       "['MC.PA',\n",
       " 'AI.PA',\n",
       " 'PE500.PA',\n",
       " 'DG.PA',\n",
       " 'TTE.PA',\n",
       " 'SEL.PA',\n",
       " 'SAF.PA',\n",
       " 'CS.PA',\n",
       " 'STLAP.PA',\n",
       " 'SAMS.PA',\n",
       " 'ACA.PA',\n",
       " 'AIR.PA',\n",
       " 'AMUN.PA',\n",
       " 'AF.PA']"
      ]
     },
     "execution_count": 25,
     "metadata": {},
     "output_type": "execute_result"
    }
   ],
   "source": [
    "#spark_session.sql(f\"CREATE TABLE hudi_portfolio_data USING Hudi LOCATION '{path}'\")\n",
    "df = spark_session.sql(\"SELECT symbol FROM hudi_portfolio_data\")\n",
    "df.select(\"symbol\").rdd.flatMap(lambda x: x).collect()"
   ]
  },
  {
   "cell_type": "code",
   "execution_count": 32,
   "metadata": {},
   "outputs": [
    {
     "name": "stdout",
     "output_type": "stream",
     "text": [
      "+--------+\n",
      "|count(1)|\n",
      "+--------+\n",
      "|    6256|\n",
      "+--------+\n",
      "\n"
     ]
    }
   ],
   "source": [
    "#spark_session.sql(f\"CREATE TABLE hudi_stocks_data USING Hudi LOCATION '{data_path}'\")\n",
    "df = spark_session.sql(\"SELECT count(*) FROM hudi_stocks_data\")# WHERE Ticker = 'MC.PA'\")\n",
    "df.show()"
   ]
  }
 ],
 "metadata": {
  "kernelspec": {
   "display_name": "venv",
   "language": "python",
   "name": "python3"
  },
  "language_info": {
   "codemirror_mode": {
    "name": "ipython",
    "version": 3
   },
   "file_extension": ".py",
   "mimetype": "text/x-python",
   "name": "python",
   "nbconvert_exporter": "python",
   "pygments_lexer": "ipython3",
   "version": "3.11.5"
  }
 },
 "nbformat": 4,
 "nbformat_minor": 2
}
